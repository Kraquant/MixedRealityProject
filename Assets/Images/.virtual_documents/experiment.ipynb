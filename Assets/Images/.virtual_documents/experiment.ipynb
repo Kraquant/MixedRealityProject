import json

# Load the doodle from the file
with open('doodle_test.json', 'r') as file:
    doodle = json.load(file)
    
# Load the strokes from the file
with open('strokes.json', 'r') as file:
    strokes = json.load(file)



import numpy as np

# Create a 500x500 matrix filled with 0s
matrix = np.zeros((500, 500), dtype=np.uint8)

# List of 2D coordinates
coordinates = doodle

# Convert the coordinates to matrix elements with value 255
for x, y in coordinates:
    matrix[y, x] = 255



import matplotlib.pyplot as plt

plt.imshow(matrix, cmap='binary')  # cmap='gray' for grayscale visualization
plt.show()



strokes
